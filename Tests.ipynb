{
 "cells": [
  {
   "cell_type": "code",
   "execution_count": 16,
   "metadata": {},
   "outputs": [
    {
     "name": "stdout",
     "output_type": "stream",
     "text": [
      "The autoreload extension is already loaded. To reload it, use:\n",
      "  %reload_ext autoreload\n"
     ]
    }
   ],
   "source": [
    "%load_ext autoreload\n",
    "\n",
    "%autoreload 2\n",
    "from searcher.indexer import DocumentsIndex\n",
    "from searcher.util import *"
   ]
  },
  {
   "cell_type": "code",
   "execution_count": 17,
   "metadata": {},
   "outputs": [],
   "source": [
    "index = DocumentsIndex()"
   ]
  },
  {
   "cell_type": "code",
   "execution_count": null,
   "metadata": {},
   "outputs": [
    {
     "name": "stdout",
     "output_type": "stream",
     "text": [
      "Processed 1000 more files\n",
      "Processed 1000 more files\n",
      "Processed 1000 more files\n",
      "Processed 1000 more files\n",
      "Processed 1000 more files\n",
      "Processed 1000 more files\n",
      "Processed 1000 more files\n",
      "Processed 1000 more files\n",
      "Processed 1000 more files\n",
      "Processed 1000 more files\n",
      "Processed 1000 more files\n",
      "Processed 1000 more files\n",
      "Processed 1000 more files\n",
      "Processed 1000 more files\n",
      "Processed 1000 more files\n",
      "Processed 1000 more files\n",
      "Processed 1000 more files\n",
      "Processed 1000 more files\n",
      "Processed 1000 more files\n",
      "Processed 1000 more files\n"
     ]
    }
   ],
   "source": [
    "%time index.add_directory_to_index('001')"
   ]
  },
  {
   "cell_type": "code",
   "execution_count": null,
   "metadata": {},
   "outputs": [],
   "source": [
    "index.word_to_doc[\"drug\"]"
   ]
  },
  {
   "cell_type": "code",
   "execution_count": null,
   "metadata": {
    "collapsed": true
   },
   "outputs": [],
   "source": []
  }
 ],
 "metadata": {
  "kernelspec": {
   "display_name": "Python 3",
   "language": "python",
   "name": "python3"
  },
  "language_info": {
   "codemirror_mode": {
    "name": "ipython",
    "version": 3
   },
   "file_extension": ".py",
   "mimetype": "text/x-python",
   "name": "python",
   "nbconvert_exporter": "python",
   "pygments_lexer": "ipython3",
   "version": "3.6.1"
  }
 },
 "nbformat": 4,
 "nbformat_minor": 2
}

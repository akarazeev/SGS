{
 "cells": [
  {
   "cell_type": "code",
   "execution_count": 30,
   "metadata": {},
   "outputs": [
    {
     "name": "stdout",
     "output_type": "stream",
     "text": [
      "The autoreload extension is already loaded. To reload it, use:\n",
      "  %reload_ext autoreload\n"
     ]
    }
   ],
   "source": [
    "%load_ext autoreload\n",
    "\n",
    "%autoreload 2\n",
    "from searcher.indexer import DocumentsIndex\n",
    "from searcher.util import *\n",
    "from searcher.engine import Engine"
   ]
  },
  {
   "cell_type": "code",
   "execution_count": 31,
   "metadata": {},
   "outputs": [],
   "source": [
    "index = DocumentsIndex()\n",
    "index.load_index_from_file(\"checkpoint17000\")\n",
    "index.fill_doc_len()\n",
    "engine = Engine(index)"
   ]
  },
  {
   "cell_type": "code",
   "execution_count": 39,
   "metadata": {},
   "outputs": [
    {
     "name": "stdout",
     "output_type": "stream",
     "text": [
      "[('001/0e60ec0e-fcd0-4839-b636-72dafd7497e1', 8.2363007282467944), ('001/0cf0d2ff-fb80-4e37-bf96-a4f036b06c34', 8.1579029530704332), ('001/21d2bcd5-e8c3-484e-86e1-ca50da99ab27', 7.5580655156381988), ('001/01e2d463-7b35-4348-907d-48e4174edae4', 7.2764722217581896), ('001/24d2e579-e7f5-4dfe-81bd-dd890e5b9370', 7.1960406568060806), ('001/1ac36833-1a28-4115-bd01-032449bfb213', 7.015108069243853), ('001/02f864a7-aa16-41d1-a6da-97f9268be2df', 6.7484694113630157), ('001/054346b2-1da5-4e81-b9ba-0fbd2f15f46d', 6.6716260236318936), ('001/1bbba387-6ad3-4c63-bcfb-a331e52e8ab7', 6.2118606297695935), ('001/064e9129-467d-4f36-9db3-3d2028c5595a', 6.0452215725185496), ('001/1434265a-af21-4448-8144-982924f27178', 5.6056577704399819), ('001/162662d5-62e3-416f-8ab8-b0bdd20eaf65', 3.9112542557096011), ('001/10784d2e-f828-419e-8021-2381c1b2c9e8', 3.353398499480388), ('001/17057854-e85f-4387-b373-5436bb966a5e', 3.3055370006945424), ('001/140728c9-5c07-415e-941a-d662645859db', 3.081769827355668), ('001/19f3eae8-bc43-4b90-8959-68a0dec26b5e', 3.0182678150108155), ('001/1f09b8e5-23d7-4497-a3e5-bd4578bf1abe', 2.6605509721912437), ('001/215819a8-3b87-4bc6-a1c3-25bcac1d7429', 2.4646926926769144), ('001/11789e46-0f1e-4297-9c76-d1059a7a2664', 2.2310067764006272), ('001/0b37607b-8b37-4b67-8e27-51a9403668ce', 1.9717571440869179), ('001/0b9ac31e-b82d-4cfe-a034-6bb413d44164', 1.959425099709573), ('001/09017474-c220-4d0e-a23f-44a9af8a2dfe', 1.9259329746057996), ('001/0ef9ac11-c389-4d5b-a32b-4a8ab8c5215d', 1.8923434075943832), ('001/14875ad2-554c-43ce-bc66-659ebd91cfa9', 1.7395271394798735), ('001/008751ef-28c7-420f-b378-f52efefa7eb1', 1.6520273579102907), ('001/117e2069-fc86-4c01-af9c-f62c25702726', 1.6224735758333924), ('001/213aba71-4541-4315-b523-b2d1fec57978', 1.3828373049221925), ('001/20102dde-7c30-413b-ac59-a3fe7fb9a256', 1.3590367939173253), ('001/06846b86-6cb1-4dbc-a594-5f27bdbeb8ad', 1.2170414526853695), ('001/214ecac9-fd49-4aec-a6c5-910d4a45a64b', 1.0983994309454872), ('001/062a9482-18ca-4670-8d16-bd1e14dcd189', 0.98303471228132655), ('001/10685792-9444-4c62-b42b-886688f07d3c', 0.92806882192189366), ('001/0ece66b2-45ee-4ff4-bb26-9985357fa29b', 0.61241402919828614), ('001/1c6b2b39-3c15-4cdc-8549-cade5adecd46', 0.57474720012228342), ('001/17cba23d-fc2c-4508-ae56-dee04942ada1', 0.56363398757775696), ('001/20515cbd-3a33-4b6f-a498-e5e1ff0fe13c', 0.55519540224062558), ('001/221c4c16-6b73-4d9f-9275-dbdea9d7e50c', 0.24544603826582581), ('001/08982a51-04fc-4cda-b769-fde1f18b5169', 0.070062891358195989)]\n",
      "CPU times: user 608 µs, sys: 189 µs, total: 797 µs\n",
      "Wall time: 630 µs\n"
     ]
    }
   ],
   "source": [
    "%time print(engine.process_query([\"seldom\"]))"
   ]
  },
  {
   "cell_type": "code",
   "execution_count": null,
   "metadata": {
    "collapsed": true
   },
   "outputs": [],
   "source": [
    "index.word_to_doc[\"drug\"]"
   ]
  },
  {
   "cell_type": "code",
   "execution_count": null,
   "metadata": {
    "collapsed": true
   },
   "outputs": [],
   "source": []
  }
 ],
 "metadata": {
  "kernelspec": {
   "display_name": "Python 3",
   "language": "python",
   "name": "python3"
  },
  "language_info": {
   "codemirror_mode": {
    "name": "ipython",
    "version": 3
   },
   "file_extension": ".py",
   "mimetype": "text/x-python",
   "name": "python",
   "nbconvert_exporter": "python",
   "pygments_lexer": "ipython3",
   "version": "3.6.1"
  }
 },
 "nbformat": 4,
 "nbformat_minor": 2
}
